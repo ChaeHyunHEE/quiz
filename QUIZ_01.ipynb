{
 "cells": [
  {
   "cell_type": "code",
   "execution_count": 26,
   "metadata": {},
   "outputs": [],
   "source": [
    "import copy\n",
    "import time"
   ]
  },
  {
   "cell_type": "code",
   "execution_count": 27,
   "metadata": {},
   "outputs": [
    {
     "name": "stdout",
     "output_type": "stream",
     "text": [
      "5\n"
     ]
    }
   ],
   "source": [
    "H = int(input())"
   ]
  },
  {
   "cell_type": "code",
   "execution_count": 28,
   "metadata": {},
   "outputs": [
    {
     "name": "stdout",
     "output_type": "stream",
     "text": [
      "7\n",
      "3 8\n",
      "8 1 0\n",
      "2 7 4 4\n",
      "4 5 2 6 5\n"
     ]
    }
   ],
   "source": [
    "int_triangle = []\n",
    "for i in range(H) :\n",
    "    input_ = input()\n",
    "    line = list(map(int, input_.split(' ')))\n",
    "    assert len(line) == i + 1\n",
    "    int_triangle.append(line)"
   ]
  },
  {
   "cell_type": "code",
   "execution_count": 46,
   "metadata": {
    "scrolled": true
   },
   "outputs": [
    {
     "name": "stdout",
     "output_type": "stream",
     "text": [
      "[[7], [3, 8], [8, 1, 0], [2, 7, 4, 4], [4, 5, 2, 6, 5]]\n"
     ]
    }
   ],
   "source": [
    "print(int_triangle)"
   ]
  },
  {
   "cell_type": "code",
   "execution_count": 30,
   "metadata": {},
   "outputs": [],
   "source": [
    "def compare(a, b) :\n",
    "    if a > b :\n",
    "        return a\n",
    "    else :\n",
    "        return b"
   ]
  },
  {
   "cell_type": "code",
   "execution_count": 44,
   "metadata": {},
   "outputs": [],
   "source": [
    "def update_triangle(int_triangle, level) :\n",
    "    print(level)\n",
    "    for i in range(level) :\n",
    "        int_triangle[level - 1][i] += compare(int_triangle[level][i], int_triangle[level][i + 1])\n",
    "    return int_triangle"
   ]
  },
  {
   "cell_type": "code",
   "execution_count": 32,
   "metadata": {},
   "outputs": [],
   "source": [
    "def main(H, int_triangle) :\n",
    "    height = H\n",
    "    triangle = copy.deepcopy(int_triangle)\n",
    "    for level in range(height - 1, 0, -1) :\n",
    "        update_triangle(triangle, level)\n",
    "        if level == 0 :\n",
    "            break\n",
    "        else :\n",
    "            del(triangle[level])\n",
    "    return triangle"
   ]
  },
  {
   "cell_type": "code",
   "execution_count": 45,
   "metadata": {},
   "outputs": [
    {
     "name": "stdout",
     "output_type": "stream",
     "text": [
      "4\n",
      "3\n",
      "2\n",
      "1\n",
      "수행 시간 : 0.000000초\n",
      "결과 값 : 30\n"
     ]
    }
   ],
   "source": [
    "if __name__ == '__main__' :\n",
    "    s = time.time()\n",
    "    result = main(H, int_triangle)\n",
    "    e = time.time()\n",
    "    print('수행 시간 : {0:3.6f}초' .format(e - s))\n",
    "    print('결과 값 : {}' .format(result[0][0]))"
   ]
  },
  {
   "cell_type": "code",
   "execution_count": 54,
   "metadata": {
    "scrolled": true
   },
   "outputs": [
    {
     "name": "stdout",
     "output_type": "stream",
     "text": [
      "30\n",
      "수행 시간 : 0.000000초\n"
     ]
    }
   ],
   "source": [
    "# 위는 김주봉 교수님 코드 따라 친 것이고 저는 교수님 알고리즘만 따와서\n",
    "# 전위순회로 sumLeft와 sumRight 중 큰 거를 비교하며 했습니다.\n",
    "\n",
    "class TNode :\n",
    "    def __init__(self, data, left, right) :\n",
    "        self.data = data\n",
    "        self.left = left\n",
    "        self.right = right\n",
    "\n",
    "def find_max_sum(node) :\n",
    "    if node is None :\n",
    "        return 0\n",
    "     \n",
    "    sumLeft = node.data + find_max_sum(node.left)\n",
    "    sumRight = node.data + find_max_sum(node.right)\n",
    "    \n",
    "    if sumLeft > sumRight :\n",
    "        return sumLeft\n",
    "    else :\n",
    "        return sumRight\n",
    "\n",
    "\n",
    "a = TNode(4, None, None)\n",
    "b = TNode(5, None, None)\n",
    "c = TNode(2, None, None)\n",
    "d = TNode(6, None, None)\n",
    "e = TNode(5, None, None)\n",
    "\n",
    "f = TNode(2, a, b)\n",
    "g = TNode(7, b, c)\n",
    "h = TNode(4, c, d)\n",
    "i = TNode(4, d, e)\n",
    "\n",
    "j = TNode(8, f, g)\n",
    "k = TNode(1, g, h)\n",
    "l = TNode(0, h, i)\n",
    "\n",
    "m = TNode(3, j, k)\n",
    "n = TNode(8, k, l)\n",
    "\n",
    "root = TNode(7, m, n)\n",
    "\n",
    "if __name__ == '__main__' :\n",
    "    s = time.time()\n",
    "    print(find_max_sum(root))\n",
    "    e = time.time()\n",
    "    print('수행 시간 : {0:3.6f}초' .format(e - s))"
   ]
  }
 ],
 "metadata": {
  "kernelspec": {
   "display_name": "Python 3",
   "language": "python",
   "name": "python3"
  },
  "language_info": {
   "codemirror_mode": {
    "name": "ipython",
    "version": 3
   },
   "file_extension": ".py",
   "mimetype": "text/x-python",
   "name": "python",
   "nbconvert_exporter": "python",
   "pygments_lexer": "ipython3",
   "version": "3.8.3"
  }
 },
 "nbformat": 4,
 "nbformat_minor": 4
}
