{
 "cells": [
  {
   "cell_type": "code",
   "execution_count": null,
   "metadata": {},
   "outputs": [],
   "source": [
    "import numpy as np\n",
    "\n",
    "sq = [(a, b, c) for a in range(1, 101) for b in range(a, 101) \\\n",
    "     for c in range(1, 1001) if (a**2 + b**2) == c**2]\n",
    "print(sq)\n",
    "# 얘도 가독성 있는데 아래가 더 직관적이다."
   ]
  },
  {
   "cell_type": "code",
   "execution_count": 8,
   "metadata": {},
   "outputs": [],
   "source": [
    "result = [(a, b, c) if a**2 + b**2 == c**2 else None \\\n",
    "         for a in range(1, 101) for b in range(a, 101) \\\n",
    "         for c in range(b+1, 1001)]\n",
    "# None 넣는 이유는 가독성\n",
    "result = list(filter(None, result)) #result안에서 None을 갖는 애들은 전부 걸러짐"
   ]
  },
  {
   "cell_type": "code",
   "execution_count": 9,
   "metadata": {},
   "outputs": [
    {
     "name": "stdout",
     "output_type": "stream",
     "text": [
      "63\n"
     ]
    }
   ],
   "source": [
    "print(len(result)) # 4만번 넘는 연산에서 filter 넣으니까 연산 63번 됨"
   ]
  },
  {
   "cell_type": "code",
   "execution_count": null,
   "metadata": {},
   "outputs": [],
   "source": [
    "result = list(filter(\n",
    "    None,\n",
    "    [\n",
    "        (a, b, c) if a**2 + b**2 == c**2 else None\n",
    "        for a in range(1, 101) for b in range(a, 101) for c in range(b+1, 1001)\n",
    "    ]\n",
    "))"
   ]
  },
  {
   "cell_type": "code",
   "execution_count": 28,
   "metadata": {},
   "outputs": [],
   "source": [
    "result = list(filter(\n",
    "    None,\n",
    "    [\n",
    "        _list[-1] if all([False if _list[-1] != k and _list[-1] % k == 0 else _list[-1] for k in _list]) else None\n",
    "        for _list in [[j for j in range(2, i+1)] for i in range(2, 1001)]\n",
    "    ]\n",
    "    \n",
    "))"
   ]
  }
 ],
 "metadata": {
  "kernelspec": {
   "display_name": "Python 3",
   "language": "python",
   "name": "python3"
  },
  "language_info": {
   "codemirror_mode": {
    "name": "ipython",
    "version": 3
   },
   "file_extension": ".py",
   "mimetype": "text/x-python",
   "name": "python",
   "nbconvert_exporter": "python",
   "pygments_lexer": "ipython3",
   "version": "3.8.3"
  }
 },
 "nbformat": 4,
 "nbformat_minor": 4
}
